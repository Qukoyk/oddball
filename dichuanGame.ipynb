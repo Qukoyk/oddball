{
  "nbformat": 4,
  "nbformat_minor": 0,
  "metadata": {
    "colab": {
      "name": "dichuanGame",
      "provenance": [],
      "collapsed_sections": [],
      "authorship_tag": "ABX9TyPcy66m0t0bfPHgNTFWRwUe",
      "include_colab_link": true
    },
    "kernelspec": {
      "name": "python3",
      "display_name": "Python 3"
    }
  },
  "cells": [
    {
      "cell_type": "markdown",
      "metadata": {
        "id": "view-in-github",
        "colab_type": "text"
      },
      "source": [
        "<a href=\"https://colab.research.google.com/github/Qukoyk/oddball/blob/master/dichuanGame.ipynb\" target=\"_parent\"><img src=\"https://colab.research.google.com/assets/colab-badge.svg\" alt=\"Open In Colab\"/></a>"
      ]
    },
    {
      "cell_type": "markdown",
      "metadata": {
        "id": "eYK96Wq6J23N"
      },
      "source": [
        "# 前書\r\n",
        "\r\n",
        "　面白い課題だと思います。\r\n",
        "\r\n",
        "　この課題のコアは装置勉強会の時話した「魔王戦」（九九の自動生成）と同じやり方です。一言でいうと「For-For」の二重サーキュレーションでありますね。\r\n",
        "\r\n",
        "　ほかの部分はロジックサーキュレーション・乱数生成・リスト操作・変数型変換の基礎構文法が利用されました。これまでの知識を把握できると実験箱の統制も大丈夫と思います。\r\n",
        "   \r\n",
        "   \r\n",
        "  \r\n",
        "*Qukoyk*   \r\n",
        "20210305"
      ]
    },
    {
      "cell_type": "markdown",
      "metadata": {
        "id": "laAya7c41Q7C"
      },
      "source": [
        "# **ゲームの仕様**　　　\r\n",
        "\r\n",
        "* 3桁の数字を当てる、数当てゲームです。   \r\n",
        "* 正解の3桁の数字は、ゲーム開始時にランダムに設定します。   \r\n",
        "    - 同じ数字が出てきてはいけません。   \r\n",
        "    - 0から始まってもよいものとします。(例：012)   \r\n",
        "* 入力した数字が、数字も桁も一致した場合、Greatとします。   \r\n",
        "* 入力した数字が、数字は一致しているが桁は不一致の場合、Goodとします。   \r\n",
        "* 次の３パターンの入力の場合はエラーとし、再入力を要求します。   \r\n",
        "    1. 同じ数字が入っている   \r\n",
        "    2. 桁数が多い/少ない   \r\n",
        "    3. 半角数字以外が入っている   \r\n",
        "* 提示されるGreat数とGood数から、プレイヤーは正解の予想を繰り返します。   \r\n",
        "* 予想できるチャンスは10回までとします。   \r\n",
        "* 表示するメッセージ内容は下の動作例に従ってください。"
      ]
    },
    {
      "cell_type": "markdown",
      "metadata": {
        "id": "PJK-i8Hk6919"
      },
      "source": [
        "\r\n",
        "\r\n",
        "---\r\n",
        "\r\n"
      ]
    },
    {
      "cell_type": "markdown",
      "metadata": {
        "id": "0_EmAuMvqna4"
      },
      "source": [
        "# **段階1**  \r\n",
        "\r\n",
        "\r\n",
        "\r\n",
        "* キーボードから入力した 3 桁の数値と、正解の値が\r\n",
        "完全に一致しているかどうかを判定するプログラムを作成します。   \r\n",
        "    * Great数やGood数は考慮しなくてかまいません。\r\n",
        "\r\n",
        "* 正解の値は常に128で固定します。\r\n",
        "* 入力が3桁の数値かのチェックも入れましょう。\r\n",
        "\r\n",
        "\r\n",
        "\r\n"
      ]
    },
    {
      "cell_type": "code",
      "metadata": {
        "id": "D-ysp0N-oIzN"
      },
      "source": [
        "'''\r\n",
        "\r\n",
        "プログラム作成の所要時間　10分\r\n",
        "\r\n",
        "'''\r\n",
        "\r\n",
        "chance = 10 # 予想できるチャンスは10回まで\r\n",
        "\r\n",
        "# 正解\r\n",
        "result = \"128\"\r\n",
        "\r\n",
        "print(\"Great&Goodを開始します！\")\r\n",
        "\r\n",
        "for i in range(chance):\r\n",
        "\r\n",
        "    print(i+1,\"回目のチャレンジ！\")\r\n",
        "\r\n",
        "    answer = input(\"3桁の数値を入力してください：\")\r\n",
        "\r\n",
        "    keta = len(answer)\r\n",
        "    if keta != 3:\r\n",
        "        print(\"3桁の数値ではない\")\r\n",
        "        continue\r\n",
        "\r\n",
        "    if answer == result:\r\n",
        "        print('\\n', \"正解です！！\")\r\n",
        "        break\r\n",
        "    else:\r\n",
        "        print(\"残念，違います。\",'\\n')\r\n",
        "\r\n",
        "    if i == chance-1:\r\n",
        "        print('\\n', \"残念でした。答えは128です。\")"
      ],
      "execution_count": null,
      "outputs": []
    },
    {
      "cell_type": "markdown",
      "metadata": {
        "id": "lpxoe2gl7BUU"
      },
      "source": [
        "\r\n",
        "\r\n",
        "---\r\n",
        "\r\n"
      ]
    },
    {
      "cell_type": "markdown",
      "metadata": {
        "id": "otJU55ezuGcS"
      },
      "source": [
        "# **段階2**  \r\n",
        "\r\n",
        "*   Great 数と Good 数を判定し、表示する処理を追加します.\r\n",
        "\r\n",
        "*   正解の値は常に128で固定します。\r\n",
        "\r\n"
      ]
    },
    {
      "cell_type": "code",
      "metadata": {
        "id": "e0ITU8QBuGJF"
      },
      "source": [
        "'''\r\n",
        "\r\n",
        "プログラム作成の所要時間　30分（段階1含み/段階に従わなかった）\r\n",
        "\r\n",
        "'''\r\n",
        "\r\n",
        "chance = 10 # 予想できるチャンスは10回まで\r\n",
        "\r\n",
        "# 正解\r\n",
        "result = \"128\"\r\n",
        "\r\n",
        "answerList = []\r\n",
        "mushi = False\r\n",
        "\r\n",
        "print(\"Great&Goodを開始します！\")\r\n",
        "\r\n",
        "for i in range(chance):\r\n",
        "    \r\n",
        "    # reset\r\n",
        "    goodCounter = 0\r\n",
        "    greatCounter = 0\r\n",
        "    answerKetaTemp = 0\r\n",
        "    resultKetaTemp = 0\r\n",
        "    \r\n",
        "    print(i+1,\"回目のチャレンジ！\")\r\n",
        "    \r\n",
        "    answer = input(\"3桁の数値を入力してください：\")\r\n",
        "    \r\n",
        "    keta = len(answer)\r\n",
        "    if keta > 3:\r\n",
        "        print(\"桁数が多い\",'\\n')\r\n",
        "        continue\r\n",
        "    if keta < 3:\r\n",
        "        print(\"桁数が少ない\",'\\n')\r\n",
        "        continue\r\n",
        "    for j in answerList:\r\n",
        "        if j == answer:\r\n",
        "            print(\"同じ数字が入っている\",'\\n')\r\n",
        "            mushi = True\r\n",
        "            break\r\n",
        "    if mushi == True:\r\n",
        "        continue\r\n",
        "\r\n",
        "    # 判定\r\n",
        "    for l in answer: # 入力数字の各桁\r\n",
        "        for m in result: # 正解数字の各桁\r\n",
        "            if l == m and answerKetaTemp == resultKetaTemp: # 数字も桁も一致\r\n",
        "                greatCounter = greatCounter + 1\r\n",
        "                pass\r\n",
        "            if l == m and answerKetaTemp != resultKetaTemp: # 数値は一致しているが桁は不一致\r\n",
        "                goodCounter = goodCounter + 1\r\n",
        "            resultKetaTemp = resultKetaTemp + 1\r\n",
        "            pass\r\n",
        "        resultKetaTemp = 0\r\n",
        "        answerKetaTemp = answerKetaTemp + 1\r\n",
        "\r\n",
        "    if answer == result:\r\n",
        "        print('\\n', \"正解です！！\")\r\n",
        "        break\r\n",
        "    else:\r\n",
        "        print(\"Great: \", greatCounter)\r\n",
        "        print(\"Good: \", goodCounter,'\\n')\r\n",
        "\r\n",
        "    if i == chance-1:\r\n",
        "        print('\\n', \"残念でした。答えは128です。\")\r\n",
        "    \r\n",
        "    # 前回の入力数字を記録\r\n",
        "    answerList.append(answer)"
      ],
      "execution_count": null,
      "outputs": []
    },
    {
      "cell_type": "markdown",
      "metadata": {
        "id": "kwjg7PO58WGE"
      },
      "source": [
        "\r\n",
        "\r\n",
        "---\r\n",
        "\r\n"
      ]
    },
    {
      "cell_type": "markdown",
      "metadata": {
        "id": "Qi9Qg5lT8W-F"
      },
      "source": [
        "# **段階３**   \r\n",
        "\r\n",
        "* 正解の値がランダムに設定されるようにしてください。\r\n"
      ]
    },
    {
      "cell_type": "code",
      "metadata": {
        "id": "SAyfvP-e8fIR"
      },
      "source": [
        "'''\r\n",
        "\r\n",
        "プログラム作成の所要時間　45分（段階1と段階2含み/段階に従わなかった）\r\n",
        "\r\n",
        "'''\r\n",
        "\r\n",
        "import random\r\n",
        "\r\n",
        "chance = 10 # 予想できるチャンスは10回まで\r\n",
        "\r\n",
        "# 乱数生成\r\n",
        "resultTemp = str(random.choice(range(1000))) \r\n",
        "# 1桁・2桁の頭に「0」に追加\r\n",
        "ketasa =(3-len(resultTemp))\r\n",
        "for i in range(ketasa):\r\n",
        "    ketasa = \"0\" + ketasa\r\n",
        "result = resultTemp\r\n",
        "\r\n",
        "answerList = []\r\n",
        "mushi = False\r\n",
        "\r\n",
        "print(\"Great&Goodを開始します！\")\r\n",
        "\r\n",
        "for i in range(chance):\r\n",
        "    \r\n",
        "    # reset\r\n",
        "    goodCounter = 0\r\n",
        "    greatCounter = 0\r\n",
        "    answerKetaTemp = 0\r\n",
        "    resultKetaTemp = 0\r\n",
        "    \r\n",
        "    print(i+1,\"回目のチャレンジ！\")\r\n",
        "    \r\n",
        "    answer = input(\"3桁の数値を入力してください：\")\r\n",
        "    \r\n",
        "    keta = len(answer)\r\n",
        "    if keta > 3:\r\n",
        "        print(\"桁数が多い\",'\\n')\r\n",
        "        continue\r\n",
        "    if keta < 3:\r\n",
        "        print(\"桁数が少ない\",'\\n')\r\n",
        "        continue\r\n",
        "    for j in answerList:\r\n",
        "        if j == answer:\r\n",
        "            print(\"同じ数字が入っている\",'\\n')\r\n",
        "            mushi = True\r\n",
        "            break\r\n",
        "    if mushi == True:\r\n",
        "        continue\r\n",
        "\r\n",
        "    # 判定\r\n",
        "    for l in answer: # 入力数字の各桁\r\n",
        "        for m in result: # 正解数字の各桁\r\n",
        "            if l == m and answerKetaTemp == resultKetaTemp: # 数字も桁も一致\r\n",
        "                greatCounter = greatCounter + 1\r\n",
        "                pass\r\n",
        "            if l == m and answerKetaTemp != resultKetaTemp: # 数値は一致しているが桁は不一致\r\n",
        "                goodCounter = goodCounter + 1\r\n",
        "            resultKetaTemp = resultKetaTemp + 1\r\n",
        "            pass\r\n",
        "        resultKetaTemp = 0\r\n",
        "        answerKetaTemp = answerKetaTemp + 1\r\n",
        "        \r\n",
        "    if answer == result:\r\n",
        "        print('\\n', \"正解です！！\")\r\n",
        "        break\r\n",
        "    else:\r\n",
        "        print(\"Great: \", greatCounter)\r\n",
        "        print(\"Good: \", goodCounter,'\\n')\r\n",
        "\r\n",
        "    if i == chance-1:\r\n",
        "        print('\\n', \"残念でした。答えは\",result,\"です。\")\r\n",
        "    \r\n",
        "    # 前回の入力数字を記録\r\n",
        "    answerList.append(answer)"
      ],
      "execution_count": null,
      "outputs": []
    },
    {
      "cell_type": "markdown",
      "metadata": {
        "id": "jtGaPLKcEBzw"
      },
      "source": [
        "\r\n",
        "\r\n",
        "---\r\n",
        "\r\n"
      ]
    },
    {
      "cell_type": "markdown",
      "metadata": {
        "id": "pm3zfMuAECmc"
      },
      "source": [
        "# **オプション**   \r\n",
        "\r\n",
        "　仮に3桁が4桁になったとしても、最小限の修正で済む（例えばif文を増やさないで済む）ようなプログラムだとベターです。"
      ]
    },
    {
      "cell_type": "code",
      "metadata": {
        "id": "Cmf8B9QZESA6"
      },
      "source": [
        "'''\r\n",
        "\r\n",
        "プログラム作成の所要時間　60分（3段階含み/段階に従わなかった）\r\n",
        "\r\n",
        "'''\r\n",
        "\r\n",
        "import random\r\n",
        "\r\n",
        "chance = 10 # 予想できるチャンスは10回まで\r\n",
        "\r\n",
        "################################################################\r\n",
        "\r\n",
        "targetKeta = 4 # <--- ここの数字を替えば何桁でも対応できる\r\n",
        "\r\n",
        "################################################################\r\n",
        "\r\n",
        "# 上記の対応ができようになるための部分\r\n",
        "kankaku = \"\"\r\n",
        "randomMax = \"1\"\r\n",
        "for i in range(targetKeta):\r\n",
        "     randomMax = randomMax + \"0\"\r\n",
        "randomMax = int(randomMax)\r\n",
        "\r\n",
        "# 乱数生成\r\n",
        "resultTemp = str(random.choice(range(randomMax))) \r\n",
        "# 必要な時頭に「0」に追加\r\n",
        "ketasa =(targetKeta-len(resultTemp))\r\n",
        "for i in range(ketasa):\r\n",
        "    ketasa = \"0\" + ketasa\r\n",
        "result = resultTemp\r\n",
        "\r\n",
        "answerList = []\r\n",
        "mushi = False\r\n",
        "\r\n",
        "print(\"Great&Goodを開始します！\")\r\n",
        "\r\n",
        "for i in range(chance):\r\n",
        "    \r\n",
        "    # reset\r\n",
        "    goodCounter = 0\r\n",
        "    greatCounter = 0\r\n",
        "    answerKetaTemp = 0\r\n",
        "    resultKetaTemp = 0\r\n",
        "    \r\n",
        "    print(i+1,\"回目のチャレンジ！\")\r\n",
        "    \r\n",
        "    answer = input(str(targetKeta)+\"桁の数値を入力してください：\")\r\n",
        "    \r\n",
        "    keta = len(answer)\r\n",
        "    if keta > targetKeta:\r\n",
        "        print(\"桁数が多い\",'\\n')\r\n",
        "        continue\r\n",
        "    if keta < targetKeta:\r\n",
        "        print(\"桁数が少ない\",'\\n')\r\n",
        "        continue\r\n",
        "    for j in answerList:\r\n",
        "        if j == answer:\r\n",
        "            print(\"同じ数字が入っている\",'\\n')\r\n",
        "            mushi = True\r\n",
        "            break\r\n",
        "    if mushi == True:\r\n",
        "        continue\r\n",
        "\r\n",
        "    # 判定\r\n",
        "    for l in answer: # 入力数字の各桁\r\n",
        "        for m in result: # 正解数字の各桁\r\n",
        "            if l == m and answerKetaTemp == resultKetaTemp: # 数字も桁も一致\r\n",
        "                greatCounter = greatCounter + 1\r\n",
        "                pass\r\n",
        "            if l == m and answerKetaTemp != resultKetaTemp: # 数値は一致しているが桁は不一致\r\n",
        "                goodCounter = goodCounter + 1\r\n",
        "            resultKetaTemp = resultKetaTemp + 1\r\n",
        "            pass\r\n",
        "        resultKetaTemp = 0\r\n",
        "        answerKetaTemp = answerKetaTemp + 1\r\n",
        "        \r\n",
        "    if answer == result:\r\n",
        "        print('\\n', \"正解です！！\")\r\n",
        "        break\r\n",
        "    else:\r\n",
        "        print(\"Great: \", greatCounter)\r\n",
        "        print(\"Good: \", goodCounter,'\\n')\r\n",
        "\r\n",
        "    if i == chance-1:\r\n",
        "        print('\\n', \"残念でした。答えは\",result,\"です。\")\r\n",
        "    \r\n",
        "    # 前回の入力数字を記録\r\n",
        "    answerList.append(answer)"
      ],
      "execution_count": null,
      "outputs": []
    }
  ]
}